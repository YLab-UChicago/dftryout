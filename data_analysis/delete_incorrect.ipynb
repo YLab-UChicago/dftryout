{
 "cells": [
  {
   "cell_type": "code",
   "execution_count": 6,
   "metadata": {},
   "outputs": [],
   "source": [
    "\n",
    "import os\n",
    "import re\n",
    "def parse_filename_ex(filename):\n",
    "    pattern = r\"vl(\\d+)_([0-9a-zA-Z]+)_stride_(\\d+)_fs_(\\d+)_([a-z]{2})((?:_[a-zA-Z]+_\\d+)+)_hw_(\\d+)_nf_(\\d+)_(\\w+)CPU__stats\\.txt\"\n",
    "    match = re.match(pattern, filename)\n",
    "\n",
    "    if match:\n",
    "        num_bits = match.group(2)\n",
    "        if num_bits == 'bin':\n",
    "            num_bits = 1\n",
    "        elif num_bits == '8bt':\n",
    "            num_bits = 8\n",
    "        else:\n",
    "            raise Exception(\"number of bits not hardcoded\")\n",
    "            num_bits = int(num_bits)\n",
    "\n",
    "        # Parsing and sorting auxiliary stationary and stats pairs\n",
    "        aux_pairs_str = match.group(6)\n",
    "        aux_pairs = re.findall(r\"_([a-zA-Z]+)_(\\d+)\", aux_pairs_str)\n",
    "        sorted_aux_pairs = sorted(aux_pairs, key=lambda x: x[0])\n",
    "\n",
    "        aux_data = {}\n",
    "        for i, (name, value) in enumerate(sorted_aux_pairs):\n",
    "            if name not in aux_data:\n",
    "                aux_data[f'aux_{name}'] = int(value)\n",
    "            else:\n",
    "                aux_data[f'aux_{name}_{i + 1}'] = int(value)\n",
    "\n",
    "        return {\n",
    "            'vector_length': int(match.group(1)),\n",
    "            'num_bits': num_bits,\n",
    "            'stride': int(match.group(3)),\n",
    "            'filter_size': int(match.group(4)),\n",
    "            'anchoring_stationary': match.group(5),\n",
    "            'input_hw': int(match.group(7)),\n",
    "            'num_filters': int(match.group(8)),\n",
    "            'cpu_type': match.group(9),\n",
    "            **aux_data\n",
    "        }\n",
    "    else:\n",
    "        print(f\"unmatched. filename: {filename}\")\n",
    "        return {}\n",
    "\n",
    "directory = '/home/zhouzikai/nn_ext_dataflows/gen_programs/noblock/log'\n",
    "\n",
    " "
   ]
  },
  {
   "cell_type": "code",
   "execution_count": 7,
   "metadata": {},
   "outputs": [
    {
     "name": "stdout",
     "output_type": "stream",
     "text": [
      "{'vector_length': 512, 'num_bits': 8, 'stride': 2, 'filter_size': 4, 'anchoring_stationary': 'ws', 'input_hw': 112, 'num_filters': 8, 'cpu_type': 'ArmO3', 'aux_is': 5, 'aux_os': 0}\n"
     ]
    }
   ],
   "source": [
    "for filename in os.listdir(directory):\n",
    "    parse_res = parse_filename_ex(filename)\n",
    "    print(parse_res)\n",
    "    break"
   ]
  },
  {
   "cell_type": "code",
   "execution_count": 16,
   "metadata": {},
   "outputs": [
    {
     "name": "stdout",
     "output_type": "stream",
     "text": [
      "deleted a total of 208 files\n"
     ]
    }
   ],
   "source": [
    "total_count = 0\n",
    "for filename in os.listdir(directory):\n",
    "    parse_res = parse_filename_ex(filename)\n",
    "    if \"os_ws_\" not in filename:\n",
    "        continue\n",
    "    if ((32 // (parse_res[\"vector_length\"] // 128)) - 3) != (parse_res[\"aux_is\"] +  parse_res[\"aux_ws\"]):\n",
    "        if parse_res[\"filter_size\"]*parse_res[\"filter_size\"] == parse_res[\"aux_ws\"]:\n",
    "            if parse_res[\"filter_size\"]*(parse_res[\"filter_size\"] -parse_res[\"stride\"]) == parse_res[\"aux_is\"]:\n",
    "                continue\n",
    "        total_count += 1\n",
    "        os.remove(os.path.join(directory,filename))\n",
    "\n",
    "print(\"deleted a total of \"+str(total_count)+\" files\")"
   ]
  },
  {
   "cell_type": "code",
   "execution_count": 14,
   "metadata": {},
   "outputs": [
    {
     "name": "stdout",
     "output_type": "stream",
     "text": [
      "['vl256_bin_stride_2_fs_5_os_ws_6_is_0_hw_56_nf_64_ArmO3CPU__stats.txt', 'vl256_bin_stride_2_fs_5_os_ws_6_is_0_hw_112_nf_16_ArmO3CPU__stats.txt', 'vl512_bin_stride_1_fs_4_os_ws_2_is_0_hw_56_nf_64_ArmO3CPU__stats.txt', 'vl256_bin_stride_1_fs_4_os_ws_7_is_0_hw_56_nf_8_ArmO3CPU__stats.txt', 'vl256_8bt_stride_1_fs_3_os_ws_9_is_3_hw_112_nf_16_ArmO3CPU__stats.txt', 'vl256_8bt_stride_1_fs_4_os_ws_7_is_0_hw_112_nf_16_ArmO3CPU__stats.txt', 'vl256_bin_stride_1_fs_4_os_ws_7_is_0_hw_112_nf_32_ArmO3CPU__stats.txt', 'vl512_8bt_stride_2_fs_4_os_ws_3_is_0_hw_56_nf_32_ArmO3CPU__stats.txt', 'vl128_bin_stride_1_fs_3_os_ws_9_is_6_hw_56_nf_16_ArmO3CPU__stats.txt', 'vl512_8bt_stride_2_fs_4_os_ws_3_is_0_hw_56_nf_16_ArmO3CPU__stats.txt', 'vl256_8bt_stride_2_fs_3_os_ws_9_is_1_hw_56_nf_16_ArmO3CPU__stats.txt', 'vl128_bin_stride_2_fs_5_os_ws_14_is_4_hw_112_nf_8_ArmO3CPU__stats.txt', 'vl256_bin_stride_1_fs_4_os_ws_7_is_0_hw_112_nf_16_ArmO3CPU__stats.txt', 'vl512_8bt_stride_1_fs_5_os_ws_0_is_0_hw_112_nf_16_ArmO3CPU__stats.txt', 'vl128_8bt_stride_2_fs_3_os_ws_9_is_3_hw_112_nf_16_ArmO3CPU__stats.txt', 'vl512_8bt_stride_2_fs_5_os_ws_2_is_0_hw_56_nf_32_ArmO3CPU__stats.txt', 'vl512_8bt_stride_2_fs_4_os_ws_3_is_0_hw_112_nf_64_ArmO3CPU__stats.txt', 'vl128_bin_stride_1_fs_4_os_ws_16_is_12_hw_112_nf_64_ArmO3CPU__stats.txt', 'vl256_8bt_stride_1_fs_4_os_ws_7_is_0_hw_112_nf_32_ArmO3CPU__stats.txt', 'vl256_8bt_stride_2_fs_4_os_ws_9_is_0_hw_112_nf_8_ArmO3CPU__stats.txt', 'vl256_bin_stride_2_fs_5_os_ws_6_is_0_hw_56_nf_8_ArmO3CPU__stats.txt', 'vl128_8bt_stride_2_fs_4_os_ws_16_is_8_hw_56_nf_64_ArmO3CPU__stats.txt', 'vl256_8bt_stride_1_fs_3_os_ws_9_is_3_hw_112_nf_8_ArmO3CPU__stats.txt', 'vl128_bin_stride_2_fs_3_os_ws_9_is_3_hw_112_nf_8_ArmO3CPU__stats.txt', 'vl256_bin_stride_2_fs_4_os_ws_9_is_0_hw_112_nf_16_ArmO3CPU__stats.txt', 'vl256_8bt_stride_2_fs_5_os_ws_6_is_0_hw_56_nf_64_ArmO3CPU__stats.txt', 'vl256_8bt_stride_1_fs_4_os_ws_7_is_0_hw_56_nf_64_ArmO3CPU__stats.txt', 'vl512_8bt_stride_1_fs_5_os_ws_0_is_0_hw_56_nf_16_ArmO3CPU__stats.txt', 'vl128_bin_stride_1_fs_5_os_ws_9_is_4_hw_112_nf_16_ArmO3CPU__stats.txt', 'vl128_8bt_stride_1_fs_5_os_ws_9_is_4_hw_112_nf_32_ArmO3CPU__stats.txt', 'vl256_8bt_stride_1_fs_5_os_ws_3_is_0_hw_56_nf_8_ArmO3CPU__stats.txt', 'vl512_bin_stride_2_fs_4_os_ws_3_is_0_hw_56_nf_8_ArmO3CPU__stats.txt', 'vl256_bin_stride_1_fs_5_os_ws_3_is_0_hw_56_nf_16_ArmO3CPU__stats.txt', 'vl128_8bt_stride_2_fs_3_os_ws_9_is_3_hw_112_nf_32_ArmO3CPU__stats.txt', 'vl128_bin_stride_2_fs_3_os_ws_9_is_3_hw_112_nf_32_ArmO3CPU__stats.txt', 'vl256_8bt_stride_1_fs_3_os_ws_9_is_3_hw_112_nf_32_ArmO3CPU__stats.txt', 'vl128_8bt_stride_2_fs_3_os_ws_9_is_3_hw_112_nf_64_ArmO3CPU__stats.txt', 'vl128_8bt_stride_2_fs_3_os_ws_9_is_3_hw_56_nf_32_ArmO3CPU__stats.txt', 'vl512_bin_stride_1_fs_4_os_ws_2_is_0_hw_56_nf_16_ArmO3CPU__stats.txt', 'vl512_bin_stride_2_fs_4_os_ws_3_is_0_hw_56_nf_16_ArmO3CPU__stats.txt', 'vl256_bin_stride_2_fs_3_os_ws_9_is_1_hw_112_nf_32_ArmO3CPU__stats.txt', 'vl512_bin_stride_2_fs_5_os_ws_2_is_0_hw_56_nf_64_ArmO3CPU__stats.txt', 'vl512_8bt_stride_1_fs_4_os_ws_2_is_0_hw_112_nf_8_ArmO3CPU__stats.txt', 'vl512_bin_stride_2_fs_5_os_ws_2_is_0_hw_56_nf_32_ArmO3CPU__stats.txt', 'vl512_bin_stride_1_fs_3_os_ws_4_is_0_hw_112_nf_64_ArmO3CPU__stats.txt', 'vl512_8bt_stride_1_fs_5_os_ws_0_is_0_hw_56_nf_32_ArmO3CPU__stats.txt', 'vl512_bin_stride_2_fs_4_os_ws_3_is_0_hw_112_nf_16_ArmO3CPU__stats.txt', 'vl256_bin_stride_2_fs_4_os_ws_9_is_0_hw_56_nf_64_ArmO3CPU__stats.txt', 'vl512_bin_stride_1_fs_4_os_ws_2_is_0_hw_112_nf_16_ArmO3CPU__stats.txt', 'vl512_bin_stride_2_fs_4_os_ws_3_is_0_hw_56_nf_32_ArmO3CPU__stats.txt', 'vl128_8bt_stride_1_fs_5_os_ws_9_is_4_hw_56_nf_8_ArmO3CPU__stats.txt', 'vl256_8bt_stride_1_fs_5_os_ws_3_is_0_hw_112_nf_32_ArmO3CPU__stats.txt', 'vl256_bin_stride_2_fs_3_os_ws_9_is_1_hw_56_nf_8_ArmO3CPU__stats.txt', 'vl128_bin_stride_1_fs_5_os_ws_9_is_4_hw_56_nf_32_ArmO3CPU__stats.txt', 'vl256_bin_stride_1_fs_5_os_ws_3_is_0_hw_112_nf_64_ArmO3CPU__stats.txt', 'vl512_8bt_stride_1_fs_3_os_ws_4_is_0_hw_56_nf_16_ArmO3CPU__stats.txt', 'vl256_8bt_stride_1_fs_3_os_ws_9_is_3_hw_56_nf_16_ArmO3CPU__stats.txt', 'vl128_bin_stride_2_fs_3_os_ws_9_is_3_hw_56_nf_32_ArmO3CPU__stats.txt', 'vl128_8bt_stride_2_fs_5_os_ws_14_is_4_hw_112_nf_16_ArmO3CPU__stats.txt', 'vl256_bin_stride_1_fs_5_os_ws_3_is_0_hw_112_nf_16_ArmO3CPU__stats.txt', 'vl128_8bt_stride_1_fs_5_os_ws_9_is_4_hw_112_nf_8_ArmO3CPU__stats.txt', 'vl256_8bt_stride_1_fs_4_os_ws_7_is_0_hw_56_nf_16_ArmO3CPU__stats.txt', 'vl256_bin_stride_2_fs_5_os_ws_6_is_0_hw_56_nf_32_ArmO3CPU__stats.txt', 'vl512_8bt_stride_1_fs_3_os_ws_4_is_0_hw_112_nf_32_ArmO3CPU__stats.txt', 'vl128_8bt_stride_1_fs_5_os_ws_9_is_4_hw_56_nf_16_ArmO3CPU__stats.txt', 'vl128_bin_stride_1_fs_5_os_ws_9_is_4_hw_112_nf_8_ArmO3CPU__stats.txt', 'vl128_bin_stride_2_fs_5_os_ws_14_is_4_hw_56_nf_64_ArmO3CPU__stats.txt', 'vl512_bin_stride_1_fs_5_os_ws_0_is_0_hw_56_nf_16_ArmO3CPU__stats.txt', 'vl256_bin_stride_1_fs_5_os_ws_3_is_0_hw_112_nf_8_ArmO3CPU__stats.txt', 'vl256_8bt_stride_2_fs_4_os_ws_9_is_0_hw_112_nf_64_ArmO3CPU__stats.txt', 'vl128_bin_stride_1_fs_4_os_ws_16_is_12_hw_56_nf_8_ArmO3CPU__stats.txt', 'vl128_bin_stride_1_fs_3_os_ws_9_is_6_hw_112_nf_16_ArmO3CPU__stats.txt', 'vl512_bin_stride_1_fs_5_os_ws_0_is_0_hw_56_nf_8_ArmO3CPU__stats.txt', 'vl512_8bt_stride_1_fs_4_os_ws_2_is_0_hw_56_nf_16_ArmO3CPU__stats.txt', 'vl128_8bt_stride_2_fs_5_os_ws_14_is_4_hw_56_nf_8_ArmO3CPU__stats.txt', 'vl512_8bt_stride_1_fs_5_os_ws_0_is_0_hw_112_nf_8_ArmO3CPU__stats.txt', 'vl256_bin_stride_1_fs_3_os_ws_9_is_3_hw_56_nf_64_ArmO3CPU__stats.txt', 'vl256_8bt_stride_1_fs_3_os_ws_9_is_3_hw_56_nf_64_ArmO3CPU__stats.txt', 'vl128_8bt_stride_1_fs_3_os_ws_9_is_6_hw_56_nf_16_ArmO3CPU__stats.txt', 'vl256_bin_stride_1_fs_4_os_ws_7_is_0_hw_112_nf_8_ArmO3CPU__stats.txt', 'vl512_8bt_stride_2_fs_4_os_ws_3_is_0_hw_112_nf_32_ArmO3CPU__stats.txt', 'vl512_bin_stride_1_fs_3_os_ws_4_is_0_hw_112_nf_8_ArmO3CPU__stats.txt', 'vl256_bin_stride_2_fs_4_os_ws_9_is_0_hw_56_nf_32_ArmO3CPU__stats.txt', 'vl512_bin_stride_1_fs_3_os_ws_4_is_0_hw_112_nf_16_ArmO3CPU__stats.txt', 'vl256_8bt_stride_2_fs_5_os_ws_6_is_0_hw_56_nf_32_ArmO3CPU__stats.txt', 'vl128_bin_stride_2_fs_3_os_ws_9_is_3_hw_112_nf_16_ArmO3CPU__stats.txt', 'vl256_bin_stride_1_fs_3_os_ws_9_is_3_hw_112_nf_32_ArmO3CPU__stats.txt', 'vl128_bin_stride_2_fs_5_os_ws_14_is_4_hw_56_nf_32_ArmO3CPU__stats.txt', 'vl256_bin_stride_2_fs_3_os_ws_9_is_1_hw_56_nf_16_ArmO3CPU__stats.txt', 'vl128_8bt_stride_1_fs_4_os_ws_16_is_12_hw_112_nf_16_ArmO3CPU__stats.txt', 'vl128_bin_stride_2_fs_5_os_ws_14_is_4_hw_56_nf_16_ArmO3CPU__stats.txt', 'vl512_bin_stride_1_fs_4_os_ws_2_is_0_hw_112_nf_8_ArmO3CPU__stats.txt', 'vl512_8bt_stride_1_fs_3_os_ws_4_is_0_hw_112_nf_16_ArmO3CPU__stats.txt', 'vl128_8bt_stride_1_fs_3_os_ws_9_is_6_hw_112_nf_64_ArmO3CPU__stats.txt', 'vl512_8bt_stride_1_fs_4_os_ws_2_is_0_hw_56_nf_32_ArmO3CPU__stats.txt', 'vl256_bin_stride_2_fs_4_os_ws_9_is_0_hw_56_nf_16_ArmO3CPU__stats.txt', 'vl256_bin_stride_2_fs_4_os_ws_9_is_0_hw_112_nf_8_ArmO3CPU__stats.txt', 'vl128_8bt_stride_2_fs_5_os_ws_14_is_4_hw_112_nf_8_ArmO3CPU__stats.txt', 'vl512_8bt_stride_2_fs_5_os_ws_2_is_0_hw_56_nf_16_ArmO3CPU__stats.txt', 'vl512_8bt_stride_2_fs_5_os_ws_2_is_0_hw_112_nf_8_ArmO3CPU__stats.txt', 'vl256_8bt_stride_2_fs_4_os_ws_9_is_0_hw_112_nf_32_ArmO3CPU__stats.txt', 'vl128_bin_stride_2_fs_5_os_ws_14_is_4_hw_56_nf_8_ArmO3CPU__stats.txt', 'vl512_bin_stride_1_fs_3_os_ws_4_is_0_hw_56_nf_8_ArmO3CPU__stats.txt', 'vl128_bin_stride_1_fs_5_os_ws_9_is_4_hw_56_nf_8_ArmO3CPU__stats.txt', 'vl256_8bt_stride_2_fs_5_os_ws_6_is_0_hw_112_nf_64_ArmO3CPU__stats.txt', 'vl256_8bt_stride_2_fs_4_os_ws_9_is_0_hw_56_nf_32_ArmO3CPU__stats.txt', 'vl256_bin_stride_1_fs_3_os_ws_9_is_3_hw_112_nf_8_ArmO3CPU__stats.txt', 'vl512_8bt_stride_1_fs_4_os_ws_2_is_0_hw_56_nf_64_ArmO3CPU__stats.txt', 'vl256_bin_stride_2_fs_5_os_ws_6_is_0_hw_56_nf_16_ArmO3CPU__stats.txt', 'vl512_bin_stride_1_fs_4_os_ws_2_is_0_hw_56_nf_32_ArmO3CPU__stats.txt', 'vl128_8bt_stride_2_fs_5_os_ws_14_is_4_hw_112_nf_64_ArmO3CPU__stats.txt', 'vl128_8bt_stride_1_fs_5_os_ws_9_is_4_hw_112_nf_16_ArmO3CPU__stats.txt', 'vl256_bin_stride_1_fs_5_os_ws_3_is_0_hw_112_nf_32_ArmO3CPU__stats.txt', 'vl512_bin_stride_2_fs_5_os_ws_2_is_0_hw_112_nf_16_ArmO3CPU__stats.txt', 'vl128_bin_stride_1_fs_4_os_ws_16_is_12_hw_112_nf_32_ArmO3CPU__stats.txt', 'vl256_8bt_stride_1_fs_4_os_ws_7_is_0_hw_112_nf_8_ArmO3CPU__stats.txt', 'vl128_bin_stride_2_fs_4_os_ws_16_is_8_hw_56_nf_64_ArmO3CPU__stats.txt', 'vl256_8bt_stride_1_fs_3_os_ws_9_is_3_hw_56_nf_8_ArmO3CPU__stats.txt', 'vl128_8bt_stride_2_fs_5_os_ws_14_is_4_hw_56_nf_64_ArmO3CPU__stats.txt', 'vl512_bin_stride_2_fs_4_os_ws_3_is_0_hw_112_nf_32_ArmO3CPU__stats.txt', 'vl256_8bt_stride_1_fs_5_os_ws_3_is_0_hw_112_nf_8_ArmO3CPU__stats.txt', 'vl256_8bt_stride_1_fs_5_os_ws_3_is_0_hw_112_nf_16_ArmO3CPU__stats.txt', 'vl256_bin_stride_1_fs_3_os_ws_9_is_3_hw_56_nf_8_ArmO3CPU__stats.txt', 'vl512_8bt_stride_2_fs_4_os_ws_3_is_0_hw_56_nf_8_ArmO3CPU__stats.txt', 'vl128_8bt_stride_2_fs_3_os_ws_9_is_3_hw_56_nf_8_ArmO3CPU__stats.txt', 'vl128_bin_stride_2_fs_4_os_ws_16_is_8_hw_112_nf_32_ArmO3CPU__stats.txt', 'vl128_bin_stride_1_fs_4_os_ws_16_is_12_hw_56_nf_64_ArmO3CPU__stats.txt', 'vl128_8bt_stride_2_fs_5_os_ws_14_is_4_hw_112_nf_32_ArmO3CPU__stats.txt', 'vl128_8bt_stride_1_fs_3_os_ws_9_is_6_hw_56_nf_64_ArmO3CPU__stats.txt', 'vl256_bin_stride_2_fs_3_os_ws_9_is_1_hw_56_nf_32_ArmO3CPU__stats.txt', 'vl128_8bt_stride_2_fs_3_os_ws_9_is_3_hw_56_nf_64_ArmO3CPU__stats.txt', 'vl128_8bt_stride_1_fs_3_os_ws_9_is_6_hw_56_nf_32_ArmO3CPU__stats.txt', 'vl256_8bt_stride_2_fs_5_os_ws_6_is_0_hw_112_nf_8_ArmO3CPU__stats.txt', 'vl256_bin_stride_1_fs_3_os_ws_9_is_3_hw_112_nf_16_ArmO3CPU__stats.txt', 'vl512_bin_stride_1_fs_3_os_ws_4_is_0_hw_56_nf_32_ArmO3CPU__stats.txt', 'vl256_bin_stride_1_fs_3_os_ws_9_is_3_hw_56_nf_16_ArmO3CPU__stats.txt', 'vl512_bin_stride_1_fs_5_os_ws_0_is_0_hw_112_nf_32_ArmO3CPU__stats.txt', 'vl512_8bt_stride_1_fs_3_os_ws_4_is_0_hw_112_nf_8_ArmO3CPU__stats.txt', 'vl128_bin_stride_1_fs_3_os_ws_9_is_6_hw_112_nf_32_ArmO3CPU__stats.txt', 'vl512_8bt_stride_2_fs_5_os_ws_2_is_0_hw_112_nf_32_ArmO3CPU__stats.txt', 'vl512_bin_stride_1_fs_5_os_ws_0_is_0_hw_112_nf_16_ArmO3CPU__stats.txt', 'vl128_8bt_stride_2_fs_4_os_ws_16_is_8_hw_112_nf_32_ArmO3CPU__stats.txt', 'vl256_8bt_stride_2_fs_3_os_ws_9_is_1_hw_56_nf_8_ArmO3CPU__stats.txt', 'vl512_8bt_stride_1_fs_5_os_ws_0_is_0_hw_112_nf_64_ArmO3CPU__stats.txt', 'vl512_bin_stride_1_fs_3_os_ws_4_is_0_hw_56_nf_16_ArmO3CPU__stats.txt', 'vl128_8bt_stride_1_fs_3_os_ws_9_is_6_hw_112_nf_16_ArmO3CPU__stats.txt', 'vl128_8bt_stride_1_fs_3_os_ws_9_is_6_hw_56_nf_8_ArmO3CPU__stats.txt', 'vl128_bin_stride_2_fs_5_os_ws_14_is_4_hw_112_nf_32_ArmO3CPU__stats.txt', 'vl128_bin_stride_2_fs_3_os_ws_9_is_3_hw_56_nf_8_ArmO3CPU__stats.txt', 'vl128_bin_stride_1_fs_3_os_ws_9_is_6_hw_56_nf_8_ArmO3CPU__stats.txt', 'vl256_8bt_stride_2_fs_4_os_ws_9_is_0_hw_56_nf_8_ArmO3CPU__stats.txt', 'vl256_bin_stride_2_fs_3_os_ws_9_is_1_hw_112_nf_16_ArmO3CPU__stats.txt', 'vl128_8bt_stride_1_fs_5_os_ws_9_is_4_hw_112_nf_64_ArmO3CPU__stats.txt', 'vl128_8bt_stride_1_fs_4_os_ws_16_is_12_hw_56_nf_64_ArmO3CPU__stats.txt', 'vl128_bin_stride_1_fs_3_os_ws_9_is_6_hw_56_nf_64_ArmO3CPU__stats.txt', 'vl128_8bt_stride_2_fs_4_os_ws_16_is_8_hw_112_nf_8_ArmO3CPU__stats.txt', 'vl256_bin_stride_1_fs_5_os_ws_3_is_0_hw_56_nf_64_ArmO3CPU__stats.txt', 'vl256_8bt_stride_2_fs_3_os_ws_9_is_1_hw_112_nf_32_ArmO3CPU__stats.txt', 'vl128_bin_stride_1_fs_5_os_ws_9_is_4_hw_56_nf_16_ArmO3CPU__stats.txt', 'vl128_8bt_stride_1_fs_5_os_ws_9_is_4_hw_56_nf_64_ArmO3CPU__stats.txt', 'vl512_8bt_stride_1_fs_3_os_ws_4_is_0_hw_56_nf_8_ArmO3CPU__stats.txt', 'vl512_bin_stride_1_fs_5_os_ws_0_is_0_hw_112_nf_64_ArmO3CPU__stats.txt', 'vl512_8bt_stride_1_fs_4_os_ws_2_is_0_hw_112_nf_64_ArmO3CPU__stats.txt', 'vl256_8bt_stride_2_fs_3_os_ws_9_is_1_hw_112_nf_8_ArmO3CPU__stats.txt', 'vl256_8bt_stride_1_fs_4_os_ws_7_is_0_hw_56_nf_8_ArmO3CPU__stats.txt', 'vl512_8bt_stride_1_fs_5_os_ws_0_is_0_hw_56_nf_64_ArmO3CPU__stats.txt', 'vl256_8bt_stride_2_fs_4_os_ws_9_is_0_hw_56_nf_64_ArmO3CPU__stats.txt', 'vl256_bin_stride_2_fs_3_os_ws_9_is_1_hw_112_nf_8_ArmO3CPU__stats.txt', 'vl128_bin_stride_1_fs_5_os_ws_9_is_4_hw_112_nf_32_ArmO3CPU__stats.txt', 'vl256_bin_stride_1_fs_5_os_ws_3_is_0_hw_56_nf_32_ArmO3CPU__stats.txt', 'vl512_bin_stride_2_fs_5_os_ws_2_is_0_hw_56_nf_16_ArmO3CPU__stats.txt', 'vl512_bin_stride_1_fs_3_os_ws_4_is_0_hw_56_nf_64_ArmO3CPU__stats.txt', 'vl512_8bt_stride_2_fs_5_os_ws_2_is_0_hw_112_nf_64_ArmO3CPU__stats.txt', 'vl256_8bt_stride_1_fs_5_os_ws_3_is_0_hw_56_nf_64_ArmO3CPU__stats.txt', 'vl256_bin_stride_1_fs_4_os_ws_7_is_0_hw_56_nf_64_ArmO3CPU__stats.txt', 'vl128_8bt_stride_2_fs_3_os_ws_9_is_3_hw_112_nf_8_ArmO3CPU__stats.txt', 'vl512_8bt_stride_1_fs_5_os_ws_0_is_0_hw_56_nf_8_ArmO3CPU__stats.txt', 'vl512_bin_stride_1_fs_5_os_ws_0_is_0_hw_112_nf_8_ArmO3CPU__stats.txt', 'vl128_bin_stride_1_fs_4_os_ws_16_is_12_hw_112_nf_16_ArmO3CPU__stats.txt', 'vl256_8bt_stride_1_fs_4_os_ws_7_is_0_hw_112_nf_64_ArmO3CPU__stats.txt', 'vl512_bin_stride_2_fs_4_os_ws_3_is_0_hw_112_nf_64_ArmO3CPU__stats.txt', 'vl128_8bt_stride_1_fs_3_os_ws_9_is_6_hw_112_nf_32_ArmO3CPU__stats.txt', 'vl512_8bt_stride_2_fs_4_os_ws_3_is_0_hw_112_nf_16_ArmO3CPU__stats.txt', 'vl256_bin_stride_1_fs_4_os_ws_7_is_0_hw_56_nf_16_ArmO3CPU__stats.txt', 'vl128_bin_stride_2_fs_4_os_ws_16_is_8_hw_112_nf_64_ArmO3CPU__stats.txt', 'vl256_bin_stride_2_fs_3_os_ws_9_is_1_hw_112_nf_64_ArmO3CPU__stats.txt', 'vl256_8bt_stride_1_fs_3_os_ws_9_is_3_hw_56_nf_32_ArmO3CPU__stats.txt', 'vl512_bin_stride_2_fs_4_os_ws_3_is_0_hw_56_nf_64_ArmO3CPU__stats.txt', 'vl256_bin_stride_2_fs_5_os_ws_6_is_0_hw_112_nf_8_ArmO3CPU__stats.txt', 'vl256_bin_stride_2_fs_5_os_ws_6_is_0_hw_112_nf_32_ArmO3CPU__stats.txt', 'vl128_bin_stride_2_fs_3_os_ws_9_is_3_hw_56_nf_16_ArmO3CPU__stats.txt', 'vl512_8bt_stride_2_fs_5_os_ws_2_is_0_hw_56_nf_64_ArmO3CPU__stats.txt', 'vl256_bin_stride_2_fs_3_os_ws_9_is_1_hw_56_nf_64_ArmO3CPU__stats.txt', 'vl512_8bt_stride_2_fs_5_os_ws_2_is_0_hw_112_nf_16_ArmO3CPU__stats.txt', 'vl256_8bt_stride_2_fs_5_os_ws_6_is_0_hw_112_nf_16_ArmO3CPU__stats.txt', 'vl512_bin_stride_2_fs_5_os_ws_2_is_0_hw_56_nf_8_ArmO3CPU__stats.txt', 'vl256_bin_stride_2_fs_4_os_ws_9_is_0_hw_112_nf_32_ArmO3CPU__stats.txt', 'vl256_8bt_stride_2_fs_5_os_ws_6_is_0_hw_112_nf_32_ArmO3CPU__stats.txt', 'vl512_8bt_stride_2_fs_5_os_ws_2_is_0_hw_56_nf_8_ArmO3CPU__stats.txt', 'vl256_bin_stride_2_fs_5_os_ws_6_is_0_hw_112_nf_64_ArmO3CPU__stats.txt', 'vl512_bin_stride_1_fs_4_os_ws_2_is_0_hw_112_nf_64_ArmO3CPU__stats.txt', 'vl128_8bt_stride_1_fs_3_os_ws_9_is_6_hw_112_nf_8_ArmO3CPU__stats.txt', 'vl512_8bt_stride_1_fs_5_os_ws_0_is_0_hw_112_nf_32_ArmO3CPU__stats.txt', 'vl512_bin_stride_2_fs_5_os_ws_2_is_0_hw_112_nf_32_ArmO3CPU__stats.txt', 'vl256_8bt_stride_1_fs_4_os_ws_7_is_0_hw_56_nf_32_ArmO3CPU__stats.txt', 'vl256_8bt_stride_2_fs_3_os_ws_9_is_1_hw_56_nf_64_ArmO3CPU__stats.txt', 'vl256_8bt_stride_2_fs_5_os_ws_6_is_0_hw_56_nf_16_ArmO3CPU__stats.txt', 'vl512_bin_stride_2_fs_5_os_ws_2_is_0_hw_112_nf_64_ArmO3CPU__stats.txt', 'vl512_8bt_stride_1_fs_3_os_ws_4_is_0_hw_56_nf_64_ArmO3CPU__stats.txt', 'vl256_8bt_stride_2_fs_4_os_ws_9_is_0_hw_56_nf_16_ArmO3CPU__stats.txt', 'vl128_bin_stride_2_fs_3_os_ws_9_is_3_hw_112_nf_64_ArmO3CPU__stats.txt', 'vl512_bin_stride_1_fs_5_os_ws_0_is_0_hw_56_nf_64_ArmO3CPU__stats.txt', 'vl128_bin_stride_1_fs_4_os_ws_16_is_12_hw_112_nf_8_ArmO3CPU__stats.txt', 'vl256_8bt_stride_2_fs_4_os_ws_9_is_0_hw_112_nf_16_ArmO3CPU__stats.txt', 'vl256_bin_stride_1_fs_5_os_ws_3_is_0_hw_56_nf_8_ArmO3CPU__stats.txt', 'vl128_8bt_stride_2_fs_5_os_ws_14_is_4_hw_56_nf_16_ArmO3CPU__stats.txt', 'vl128_bin_stride_2_fs_4_os_ws_16_is_8_hw_56_nf_8_ArmO3CPU__stats.txt', 'vl256_8bt_stride_1_fs_3_os_ws_9_is_3_hw_112_nf_64_ArmO3CPU__stats.txt', 'vl128_bin_stride_2_fs_3_os_ws_9_is_3_hw_56_nf_64_ArmO3CPU__stats.txt', 'vl512_bin_stride_2_fs_4_os_ws_3_is_0_hw_112_nf_8_ArmO3CPU__stats.txt', 'vl512_8bt_stride_1_fs_4_os_ws_2_is_0_hw_56_nf_8_ArmO3CPU__stats.txt', 'vl256_8bt_stride_2_fs_5_os_ws_6_is_0_hw_56_nf_8_ArmO3CPU__stats.txt', 'vl512_bin_stride_1_fs_5_os_ws_0_is_0_hw_56_nf_32_ArmO3CPU__stats.txt', 'vl512_bin_stride_1_fs_4_os_ws_2_is_0_hw_56_nf_8_ArmO3CPU__stats.txt', 'vl512_8bt_stride_1_fs_4_os_ws_2_is_0_hw_112_nf_16_ArmO3CPU__stats.txt', 'vl128_bin_stride_1_fs_3_os_ws_9_is_6_hw_112_nf_8_ArmO3CPU__stats.txt', 'vl128_8bt_stride_1_fs_4_os_ws_16_is_12_hw_56_nf_32_ArmO3CPU__stats.txt', 'vl128_bin_stride_2_fs_5_os_ws_14_is_4_hw_112_nf_64_ArmO3CPU__stats.txt', 'vl512_8bt_stride_1_fs_3_os_ws_4_is_0_hw_56_nf_32_ArmO3CPU__stats.txt', 'vl128_bin_stride_1_fs_5_os_ws_9_is_4_hw_112_nf_64_ArmO3CPU__stats.txt', 'vl128_8bt_stride_2_fs_5_os_ws_14_is_4_hw_56_nf_32_ArmO3CPU__stats.txt', 'vl128_8bt_stride_1_fs_4_os_ws_16_is_12_hw_112_nf_32_ArmO3CPU__stats.txt', 'vl128_bin_stride_1_fs_4_os_ws_16_is_12_hw_56_nf_16_ArmO3CPU__stats.txt', 'vl128_bin_stride_1_fs_3_os_ws_9_is_6_hw_112_nf_64_ArmO3CPU__stats.txt', 'vl512_bin_stride_1_fs_4_os_ws_2_is_0_hw_112_nf_32_ArmO3CPU__stats.txt', 'vl128_8bt_stride_1_fs_4_os_ws_16_is_12_hw_112_nf_64_ArmO3CPU__stats.txt', 'vl512_8bt_stride_2_fs_4_os_ws_3_is_0_hw_56_nf_64_ArmO3CPU__stats.txt', 'vl256_8bt_stride_2_fs_3_os_ws_9_is_1_hw_56_nf_32_ArmO3CPU__stats.txt', 'vl128_bin_stride_2_fs_4_os_ws_16_is_8_hw_56_nf_32_ArmO3CPU__stats.txt', 'vl512_8bt_stride_1_fs_4_os_ws_2_is_0_hw_112_nf_32_ArmO3CPU__stats.txt', 'vl256_bin_stride_1_fs_4_os_ws_7_is_0_hw_112_nf_64_ArmO3CPU__stats.txt', 'vl256_bin_stride_2_fs_4_os_ws_9_is_0_hw_56_nf_8_ArmO3CPU__stats.txt', 'vl256_8bt_stride_1_fs_5_os_ws_3_is_0_hw_56_nf_32_ArmO3CPU__stats.txt', 'vl128_bin_stride_2_fs_5_os_ws_14_is_4_hw_112_nf_16_ArmO3CPU__stats.txt', 'vl128_bin_stride_2_fs_4_os_ws_16_is_8_hw_112_nf_16_ArmO3CPU__stats.txt', 'vl128_8bt_stride_1_fs_4_os_ws_16_is_12_hw_56_nf_16_ArmO3CPU__stats.txt', 'vl512_bin_stride_1_fs_3_os_ws_4_is_0_hw_112_nf_32_ArmO3CPU__stats.txt', 'vl512_8bt_stride_2_fs_4_os_ws_3_is_0_hw_112_nf_8_ArmO3CPU__stats.txt', 'vl128_8bt_stride_2_fs_3_os_ws_9_is_3_hw_56_nf_16_ArmO3CPU__stats.txt', 'vl256_8bt_stride_2_fs_3_os_ws_9_is_1_hw_112_nf_64_ArmO3CPU__stats.txt', 'vl256_8bt_stride_1_fs_5_os_ws_3_is_0_hw_56_nf_16_ArmO3CPU__stats.txt', 'vl512_8bt_stride_1_fs_3_os_ws_4_is_0_hw_112_nf_64_ArmO3CPU__stats.txt', 'vl128_bin_stride_1_fs_5_os_ws_9_is_4_hw_56_nf_64_ArmO3CPU__stats.txt', 'vl256_8bt_stride_1_fs_5_os_ws_3_is_0_hw_112_nf_64_ArmO3CPU__stats.txt', 'vl128_bin_stride_1_fs_4_os_ws_16_is_12_hw_56_nf_32_ArmO3CPU__stats.txt', 'vl256_bin_stride_2_fs_4_os_ws_9_is_0_hw_112_nf_64_ArmO3CPU__stats.txt', 'vl256_8bt_stride_2_fs_3_os_ws_9_is_1_hw_112_nf_16_ArmO3CPU__stats.txt', 'vl128_bin_stride_1_fs_3_os_ws_9_is_6_hw_56_nf_32_ArmO3CPU__stats.txt', 'vl128_8bt_stride_2_fs_4_os_ws_16_is_8_hw_56_nf_32_ArmO3CPU__stats.txt', 'vl128_8bt_stride_2_fs_4_os_ws_16_is_8_hw_56_nf_8_ArmO3CPU__stats.txt', 'vl128_bin_stride_2_fs_4_os_ws_16_is_8_hw_56_nf_16_ArmO3CPU__stats.txt', 'vl128_bin_stride_2_fs_4_os_ws_16_is_8_hw_112_nf_8_ArmO3CPU__stats.txt', 'vl128_8bt_stride_2_fs_4_os_ws_16_is_8_hw_112_nf_16_ArmO3CPU__stats.txt', 'vl128_8bt_stride_1_fs_4_os_ws_16_is_12_hw_56_nf_8_ArmO3CPU__stats.txt', 'vl512_bin_stride_2_fs_5_os_ws_2_is_0_hw_112_nf_8_ArmO3CPU__stats.txt', 'vl128_8bt_stride_1_fs_5_os_ws_9_is_4_hw_56_nf_32_ArmO3CPU__stats.txt', 'vl256_bin_stride_1_fs_4_os_ws_7_is_0_hw_56_nf_32_ArmO3CPU__stats.txt', 'vl128_8bt_stride_2_fs_4_os_ws_16_is_8_hw_56_nf_16_ArmO3CPU__stats.txt', 'vl256_bin_stride_1_fs_3_os_ws_9_is_3_hw_112_nf_64_ArmO3CPU__stats.txt', 'vl128_8bt_stride_1_fs_4_os_ws_16_is_12_hw_112_nf_8_ArmO3CPU__stats.txt', 'vl128_8bt_stride_2_fs_4_os_ws_16_is_8_hw_112_nf_64_ArmO3CPU__stats.txt', 'vl256_bin_stride_1_fs_3_os_ws_9_is_3_hw_56_nf_32_ArmO3CPU__stats.txt']\n"
     ]
    }
   ],
   "source": [
    "og_directory = '/home/zhouzikai/nn_ext_dataflows/gen_programs/noblock/log_og'\n",
    "difference = [item for item in os.listdir(og_directory) if item not in os.listdir(directory)]\n",
    "\n",
    "print(difference)"
   ]
  },
  {
   "cell_type": "code",
   "execution_count": 15,
   "metadata": {},
   "outputs": [
    {
     "name": "stdout",
     "output_type": "stream",
     "text": [
      "deleted a total of 96 files\n"
     ]
    }
   ],
   "source": [
    "total_count = 0\n",
    "for filename in os.listdir(directory):\n",
    "    parse_res = parse_filename_ex(filename)\n",
    "    if \"is_ws_\" not in filename:\n",
    "        continue\n",
    "    if ((32 // (parse_res[\"vector_length\"] // 128)) - 3) != (parse_res[\"aux_os\"] +  parse_res[\"aux_ws\"]):\n",
    "        total_count += 1\n",
    "\n",
    "print(\"deleted a total of \"+str(total_count)+\" files\")"
   ]
  },
  {
   "cell_type": "code",
   "execution_count": null,
   "metadata": {},
   "outputs": [],
   "source": []
  }
 ],
 "metadata": {
  "kernelspec": {
   "display_name": "Python 3 (ipykernel)",
   "language": "python",
   "name": "python3"
  },
  "language_info": {
   "codemirror_mode": {
    "name": "ipython",
    "version": 3
   },
   "file_extension": ".py",
   "mimetype": "text/x-python",
   "name": "python",
   "nbconvert_exporter": "python",
   "pygments_lexer": "ipython3",
   "version": "3.9.2"
  },
  "orig_nbformat": 4
 },
 "nbformat": 4,
 "nbformat_minor": 2
}
