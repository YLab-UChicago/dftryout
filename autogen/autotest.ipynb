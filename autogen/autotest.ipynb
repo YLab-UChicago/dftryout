{
 "cells": [
  {
   "cell_type": "code",
   "execution_count": 1,
   "metadata": {},
   "outputs": [],
   "source": [
    "from scheduler import Scheduler\n",
    "\n",
    "all_files_to_run = [\"single2.json\",\"single3.json\",\"single4.json\",\"single5.json\"]\n",
    "\n",
    "\n",
    "# Python function to print permutations of a given list\n",
    "def permutation(lst):\n",
    " \n",
    "    # If lst is empty then there are no permutations\n",
    "    if len(lst) == 0:\n",
    "        return []\n",
    " \n",
    "    # If there is only one element in lst then, only\n",
    "    # one permutation is possible\n",
    "    if len(lst) == 1:\n",
    "        return [lst]\n",
    " \n",
    "    # Find the permutations for lst if there are\n",
    "    # more than 1 characters\n",
    " \n",
    "    l = [] # empty list that will store current permutation\n",
    " \n",
    "    # Iterate the input(lst) and calculate the permutation\n",
    "    for i in range(len(lst)):\n",
    "       m = lst[i]\n",
    " \n",
    "       # Extract lst[i] or m from the list.  remLst is\n",
    "       # remaining list\n",
    "       remLst = lst[:i] + lst[i+1:]\n",
    " \n",
    "       # Generating all permutations where m is first\n",
    "       # element\n",
    "       for p in permutation(remLst):\n",
    "           l.append([m] + p)\n",
    "    return l\n",
    "\n",
    "loop_orders = permutation([\"nf\",\"fh\",\"fw\",\"d\"])"
   ]
  },
  {
   "cell_type": "code",
   "execution_count": 2,
   "metadata": {},
   "outputs": [
    {
     "data": {
      "text/plain": [
       "[['h', 'w', 'd', 'f'],\n",
       " ['h', 'w', 'f', 'd'],\n",
       " ['h', 'd', 'w', 'f'],\n",
       " ['h', 'd', 'f', 'w'],\n",
       " ['h', 'f', 'w', 'd'],\n",
       " ['h', 'f', 'd', 'w'],\n",
       " ['w', 'h', 'd', 'f'],\n",
       " ['w', 'h', 'f', 'd'],\n",
       " ['w', 'd', 'h', 'f'],\n",
       " ['w', 'd', 'f', 'h'],\n",
       " ['w', 'f', 'h', 'd'],\n",
       " ['w', 'f', 'd', 'h'],\n",
       " ['d', 'h', 'w', 'f'],\n",
       " ['d', 'h', 'f', 'w'],\n",
       " ['d', 'w', 'h', 'f'],\n",
       " ['d', 'w', 'f', 'h'],\n",
       " ['d', 'f', 'h', 'w'],\n",
       " ['d', 'f', 'w', 'h'],\n",
       " ['f', 'h', 'w', 'd'],\n",
       " ['f', 'h', 'd', 'w'],\n",
       " ['f', 'w', 'h', 'd'],\n",
       " ['f', 'w', 'd', 'h'],\n",
       " ['f', 'd', 'h', 'w'],\n",
       " ['f', 'd', 'w', 'h']]"
      ]
     },
     "execution_count": 2,
     "metadata": {},
     "output_type": "execute_result"
    }
   ],
   "source": [
    "loop_orders"
   ]
  },
  {
   "cell_type": "code",
   "execution_count": 3,
   "metadata": {},
   "outputs": [],
   "source": [
    "all_block_sizes = [1]\n",
    "\n",
    "for file_name in all_files_to_run:\n",
    "    for outer_order in loop_orders:\n",
    "        for block_size in all_block_sizes:\n",
    "            scheme = ((outer_order, [\"h\",\"w\",\"f\",\"d\"]),[block_size,block_size,block_size,1])\n",
    "            s = Scheduler(file_name,8)\n",
    "            s.set_schedule_scheme(scheme)\n",
    "            s.generate_whole_program()\n",
    "            s.output_code_to_file()\n",
    "            s.output_sys_info_to_file()\n",
    "            s.output_scheme_history_to_file()\n",
    "            s.compile_file()\n",
    "            for i in range(20):\n",
    "                s.run_file()\n",
    "            del s\n",
    "    "
   ]
  },
  {
   "cell_type": "code",
   "execution_count": 2,
   "metadata": {},
   "outputs": [],
   "source": [
    "# single instance test, so things don't get too messy\n",
    "\n",
    "scheme = (([\"f\", \"fh\", \"fw\", \"d\"] ,[\"f\", \"fh\", \"fw\", \"d\"]),[1,1,1,1])\n",
    "s = Scheduler(\"single2.json\",1,[\"WS\"],[scheme[0]],[scheme[1]])\n",
    "s.set_schedule_scheme(scheme)\n",
    "s.generate_whole_program()\n",
    "s.output_code_to_file()\n",
    "s.output_sys_info_to_file()\n",
    "s.output_scheme_history_to_file()\n",
    "s.compile_file()\n",
    "s.run_file()\n"
   ]
  },
  {
   "cell_type": "markdown",
   "metadata": {},
   "source": []
  },
  {
   "cell_type": "code",
   "execution_count": null,
   "metadata": {},
   "outputs": [],
   "source": []
  },
  {
   "cell_type": "code",
   "execution_count": null,
   "metadata": {},
   "outputs": [],
   "source": []
  }
 ],
 "metadata": {
  "kernelspec": {
   "display_name": "Python 3",
   "language": "python",
   "name": "python3"
  },
  "language_info": {
   "codemirror_mode": {
    "name": "ipython",
    "version": 3
   },
   "file_extension": ".py",
   "mimetype": "text/x-python",
   "name": "python",
   "nbconvert_exporter": "python",
   "pygments_lexer": "ipython3",
   "version": "3.10.10"
  },
  "orig_nbformat": 4
 },
 "nbformat": 4,
 "nbformat_minor": 2
}
